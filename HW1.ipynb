{
 "cells": [
  {
   "cell_type": "code",
   "execution_count": 8,
   "metadata": {},
   "outputs": [],
   "source": [
    "import numpy as np\n",
    "import matplotlib.pyplot as plt"
   ]
  },
  {
   "cell_type": "markdown",
   "metadata": {},
   "source": [
    "# Вариант 2\n",
    "Вычисляем\n",
    "$$\n",
    "\\int_{a}^{b} \\frac{f(x)}{(x-a)^{\\alpha}(b-x)^{\\beta}} d x\n",
    "$$\n",
    "где \n",
    "$$\n",
    "\\begin{array}{c}\n",
    "f(x)=3 \\cos (\\frac{x}{2}) \\cdot \\exp (\\frac{x}{4})+5 \\sin (\\frac{5x}{2})\\cdot \\exp (- \\frac{x}{3})+2 x \\\\\n",
    "a=1.7, b=3.2, \\alpha=0, \\beta=1 / 4\n",
    "\\end{array}\n",
    "$$"
   ]
  },
  {
   "cell_type": "code",
   "execution_count": 9,
   "metadata": {},
   "outputs": [],
   "source": [
    "def F(x, a=1.7, b=3.2, alpha=0, beta=0.25):\n",
    "    f = 3 * np.cos(2 * x) * np.exp(2 * x / 3) + 5 * np.sin(2.5 * x) * np.exp(-x / 3) + 2 * x\n",
    "    p = (x - a) ** alpha * (b - x) ** beta\n",
    "    return f / p"
   ]
  },
  {
   "cell_type": "markdown",
   "metadata": {},
   "source": [
    "1) Вычислим интеграл, используя следующее приближение\n",
    "\n",
    "$$\n",
    "J(F)=\\int_{a}^{b} F(x) d x \\approx \\sum_{i=1}^{n} F\\left(\\xi_{i}\\right) \\Delta x_{i}=h \\sum_{i=1}^{n} F\\left(a+\\left(i-\\frac{1}{2}\\right) h\\right)\n",
    "$$"
   ]
  },
  {
   "cell_type": "code",
   "execution_count": 10,
   "metadata": {},
   "outputs": [],
   "source": [
    "def MPRule(f, n, a=1.7, b=3.2, alpha=0, beta=0.25):\n",
    "    params = (a, b, alpha, beta)\n",
    "    h = (b - a) / n\n",
    "    x = np.linspace(a + h/2, b - h/2, n)\n",
    "    Sum = sum(f(x)) * h\n",
    "\n",
    "    return Sum"
   ]
  },
  {
   "cell_type": "code",
   "execution_count": 16,
   "metadata": {},
   "outputs": [
    {
     "data": {
      "text/plain": [
       "<Figure size 432x288 with 0 Axes>"
      ]
     },
     "metadata": {},
     "output_type": "display_data"
    },
    {
     "data": {
      "image/png": "[encoded data removed]",
      "text/plain": [
       "<Figure size 1280x480 with 1 Axes>"
      ]
     },
     "metadata": {
      "needs_background": "light"
     },
     "output_type": "display_data"
    }
   ],
   "source": [
    "max_n = 1000\n",
    "y = np.zeros(max_n // 5)\n",
    "\n",
    "for i, n in enumerate(range(1, max_n, 5)):\n",
    "    y[i] = MPRule(F, n)\n",
    "\n",
    "fig = plt.figure()\n",
    "plt.figure(figsize=(16,6), dpi= 80)\n",
    "plt.title(\"Значения J(F) в зависимости от n\", fontsize=17)\n",
    "\n",
    "# Remove borders\n",
    "plt.gca().spines[\"top\"].set_alpha(0.0)    \n",
    "plt.gca().spines[\"bottom\"].set_alpha(0.3)\n",
    "plt.gca().spines[\"right\"].set_alpha(0.0)    \n",
    "plt.gca().spines[\"left\"].set_alpha(0.3)\n",
    "plt.grid(axis='both', alpha=.3)\n",
    "\n",
    "plt.plot([i for i in range(1, max_n, 5)], y, color='tab:red');\n",
    "plt.show();"
   ]
  },
  {
   "cell_type": "markdown",
   "metadata": {},
   "source": [
    "2) \n",
    "$$\n",
    "\\int_{a}^{b} p(x) f(x) d x \\approx \\sum_{i=1}^{n} A_{i} f\\left(x_{i}\\right)\n",
    "$$\n",
    "$$p = (b - x)^{-\\frac{1}{4}}$$\n",
    "$$\n",
    "\\mu_{k}=\\int_{a}^{b} p(x) x^{k} d x\n",
    "$$\n",
    "Введем замену переменной $x = b - t$.\n",
    "\n",
    "Тогда задача сведется к следующей.\n",
    "$$\n",
    "\\int_{0}^{b - a} p(b - t) f(b - t) d t \\approx \\sum_{i=1}^{n} A_{i} f\\left(b - t_{i}\\right)\n",
    "$$\n",
    "$$\n",
    "p(t)= t^{-\\frac{1}{4}}\n",
    "$$\n",
    "$$\\mu_i = \\int_{0}^{b-a} t^{-\\frac{1}{4}} \\cdot t^{i} dt = \\frac{1}{i+1-\\frac{1}{4}}(b-a)^{i+1-\\frac{1}{4}}$$\n",
    "Находим $\\mu_i$ при $b=3.2$, $a=1.7$"
   ]
  },
  {
   "cell_type": "markdown",
   "metadata": {},
   "source": [
    "$$\\mu_0 = \\frac{4}{3}(1.5)^\\frac{3}{4}$$"
   ]
  },
  {
   "cell_type": "markdown",
   "metadata": {},
   "source": [
    "$$\\mu_1 = \\frac{4}{7}(1.5)^\\frac{7}{4}$$\n"
   ]
  },
  {
   "cell_type": "markdown",
   "metadata": {},
   "source": [
    "$$\\mu_2 = \\frac{4}{11}(1.5)^\\frac{11}{4}$$"
   ]
  },
  {
   "cell_type": "markdown",
   "metadata": {},
   "source": [
    "$$\\mu_3 = \\frac{4}{14}(1.5)^\\frac{14}{4}$$"
   ]
  }
 ],
 "metadata": {
  "kernelspec": {
   "display_name": "Python 3",
   "language": "python",
   "name": "python3"
  },
  "language_info": {
   "codemirror_mode": {
    "name": "ipython",
    "version": 3
   },
   "file_extension": ".py",
   "mimetype": "text/x-python",
   "name": "python",
   "nbconvert_exporter": "python",
   "pygments_lexer": "ipython3",
   "version": "3.8.5"
  }
 },
 "nbformat": 4,
 "nbformat_minor": 4
}
