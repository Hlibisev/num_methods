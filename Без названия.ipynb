{
 "cells": [
  {
   "cell_type": "code",
   "execution_count": 1,
   "metadata": {},
   "outputs": [],
   "source": [
    "import numpy as np\n",
    "import matplotlib.pyplot as plt"
   ]
  },
  {
   "cell_type": "markdown",
   "metadata": {},
   "source": [
    "Посчитаем моменты в общем случае\n",
    "$$\n",
    "\\int_{\\gamma_1}^{\\gamma2} p(x) f(x) d x \n",
    "$$\n",
    "Введем замену переменной $x = b - t$.\n",
    "Тогда задача сведется к следующей.\n",
    "$$\n",
    "\\int_{\\gamma_2 - b}^{\\gamma_1 - b} p(b - t) f(b - t) d t = \\int_{\\gamma_2 - b}^{\\gamma_1 - b} \\tilde p(t) f(b - t) d t \\approx \\sum_{i=1}^{n} A_{i} f\\left(b - t_{i}\\right)\n",
    "$$\n",
    "где $\\tilde p(t) =  t^{-\\frac{1}{4}}$. Тогда\n",
    "$$\\mu_i = \\int_{\\gamma_2 - b}^{\\gamma_1 - b} t^{-\\frac{1}{4}} \\cdot t^{i} dt = \\frac{1}{i+1-\\frac{1}{4}}x^{i+1-\\frac{1}{4}} \\bigg|^{b - \\gamma_1}_{b - \\gamma_2}$$\n"
   ]
  },
  {
   "cell_type": "code",
   "execution_count": 2,
   "metadata": {},
   "outputs": [],
   "source": [
    "def moment(gamma1, gamma2, k):\n",
    "    \"\"\" Функция вычисления моментов \"\"\"\n",
    "    b = 3.2\n",
    "    coef = k + 1 - 1/4\n",
    "    return 1 / coef * ((b - gamma1) ** coef - (b - gamma2) ** coef)"
   ]
  },
  {
   "cell_type": "code",
   "execution_count": 3,
   "metadata": {},
   "outputs": [],
   "source": [
    "def f(x, a=1.7, b=3.2, alpha=0, beta=0.25):\n",
    "    return 3 * np.cos(2 * x) * np.exp(2 * x / 3) + 5 * np.sin(2.5 * x) * np.exp(-x / 3) + 2 * x"
   ]
  },
  {
   "cell_type": "code",
   "execution_count": 13,
   "metadata": {},
   "outputs": [],
   "source": [
    "def newton_cotes(f, gamma1=1.7, gamma2=3.2, n_points=5,b=3.2, return_info=False):\n",
    "    \"\"\" Построение квадратурной формулы Ньютона-Котеса \"\"\"\n",
    "    # Замена переменной\n",
    "    x = np.linspace(gamma1, gamma2, n_points)\n",
    "    t = b - x\n",
    "    \n",
    "    # Строим матрицу Вандермонда\n",
    "    vander = np.vander(t, n_points, increasing=True).T\n",
    "    \n",
    "    # Находим моменты\n",
    "    mu = np.array([moment(gamma1, gamma2, k) for k in range(len(x))])\n",
    "    \n",
    "    # Находим коэф в квадратурной форме,\n",
    "    A = np.linalg.solve(vander, mu)\n",
    "    \n",
    "    if return_info is True:\n",
    "        return {\"mu\": mu, \"A\": A, \"S\": sum(A * f(x))}\n",
    "    \n",
    "    return sum(A * f(x))"
   ]
  },
  {
   "cell_type": "code",
   "execution_count": 53,
   "metadata": {},
   "outputs": [],
   "source": [
    "def gauss(f, gamma1=1.7, gamma2=3.2, b=3.2, n_points=10):\n",
    "    \"\"\" Построение квадратурной формулы с помощью специального выбора узлов.\n",
    "        Алгебраическа степень точности 2*n - 1, где n - число узлов \"\"\"\n",
    "    \n",
    "    # Находим моменты\n",
    "    moments = np.array([moment(gamma1, gamma2, k) for k in range(2*n_points)])\n",
    "    \n",
    "    # Решаем систему, чтобы найти коэф. узлового многочлена\n",
    "    maxtix_of_moments = np.array([moments[s: s + n_points] for s in range(n_points)])\n",
    "    poly_coeffs = np.linalg.solve(maxtix_of_moments, -moments[n_points:])\n",
    "    \n",
    "    # Строим полином, находим узлы квадратурной формы\n",
    "    poly = np.poly1d([1] + list(reversed(poly_coeffs)))\n",
    "    nodes = poly.roots\n",
    "    \n",
    "    # Из-за вычислительной погрешности, корни могут находиться вне интервала а, b \n",
    "    # выведем предупреждение, если это так\n",
    "    if not ((gamma1 - b < - nodes).all() and (-nodes < 0).all()):\n",
    "        print(\"Некоторые узлы выходят за промежуток интегрирования\")\n",
    "        \n",
    "    # Находим коэф в квадратурной форме\n",
    "    vander = np.vander(nodes, n_points, increasing=True).T\n",
    "    quad_coeff = np.linalg.solve(vander, moments[:n_points])\n",
    "    \n",
    "    return sum(f(b - nodes) * quad_coeff)"
   ]
  },
  {
   "cell_type": "code",
   "execution_count": 54,
   "metadata": {},
   "outputs": [
    {
     "data": {
      "text/plain": [
       "23.576656048069374"
      ]
     },
     "execution_count": 54,
     "metadata": {},
     "output_type": "execute_result"
    }
   ],
   "source": [
    "gauss(f, n_points=5)"
   ]
  },
  {
   "cell_type": "code",
   "execution_count": 55,
   "metadata": {},
   "outputs": [],
   "source": [
    "# Составная квадратурная формула\n",
    "def quad(f, a=1.7, b=3.2, method=\"newton_cotes\", n_parts=10, n_points=10):\n",
    "    if method == \"newton_cotes\":\n",
    "        method = newton_cotes\n",
    "    if method == \"gauss\":\n",
    "        method = gauss\n",
    "    \n",
    "    # Разбиваем на интервалы\n",
    "    intervals = np.linspace(a, b, n_parts)\n",
    "    integral = 0\n",
    "    for i in range(1, len(intervals)):\n",
    "        # На каждом интервале применяем заданную квадратурную форму \n",
    "        integral += method(f, intervals[i - 1], intervals[i], n_points=n_points)\n",
    "        \n",
    "    return integral"
   ]
  },
  {
   "cell_type": "code",
   "execution_count": 60,
   "metadata": {},
   "outputs": [
    {
     "data": {
      "text/plain": [
       "23.576655383704455"
      ]
     },
     "execution_count": 60,
     "metadata": {},
     "output_type": "execute_result"
    }
   ],
   "source": [
    "quad(f, method=\"gauss\", n_points=5)"
   ]
  },
  {
   "cell_type": "code",
   "execution_count": 61,
   "metadata": {},
   "outputs": [
    {
     "data": {
      "text/plain": [
       "23.57665538370445"
      ]
     },
     "execution_count": 61,
     "metadata": {},
     "output_type": "execute_result"
    }
   ],
   "source": [
    "quad(f, method=\"newton_cotes\", n_points=10)"
   ]
  },
  {
   "cell_type": "code",
   "execution_count": null,
   "metadata": {},
   "outputs": [],
   "source": []
  }
 ],
 "metadata": {
  "kernelspec": {
   "display_name": "Python 3",
   "language": "python",
   "name": "python3"
  },
  "language_info": {
   "codemirror_mode": {
    "name": "ipython",
    "version": 3
   },
   "file_extension": ".py",
   "mimetype": "text/x-python",
   "name": "python",
   "nbconvert_exporter": "python",
   "pygments_lexer": "ipython3",
   "version": "3.8.5"
  }
 },
 "nbformat": 4,
 "nbformat_minor": 4
}
