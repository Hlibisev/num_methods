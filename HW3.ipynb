{
 "cells": [
  {
   "cell_type": "code",
   "execution_count": 1,
   "metadata": {},
   "outputs": [],
   "source": [
    "import numpy as np\n",
    "import matplotlib.pyplot as plt"
   ]
  },
  {
   "cell_type": "markdown",
   "metadata": {},
   "source": [
    "Посчитаем моменты в общем случае\n",
    "\n",
    "$$\n",
    "\\int_{\\gamma_1}^{\\gamma2} p(x) f(x) d x \n",
    "$$\n",
    "\n",
    "Введем замену переменной $x = b - t$.\n",
    "Тогда задача сведется к следующей.\n",
    "\n",
    "$$\n",
    "\\int_{\\gamma_2 - b}^{\\gamma_1 - b} p(b - t) f(b - t) d t = \\int_{\\gamma_2 - b}^{\\gamma_1 - b} \\tilde p(t) f(b - t) d t \\approx \\sum_{i=1}^{n} A_{i} f\\left(b - t_{i}\\right)\n",
    "$$\n",
    "\n",
    "где $\\tilde p(t) =  t^{-\\frac{1}{4}}$. Тогда\n",
    "\n",
    "$$\\mu_i = \\int_{\\gamma_2 - b}^{\\gamma_1 - b} t^{-\\frac{1}{4}} \\cdot t^{i} dt = \\frac{1}{i+1-\\frac{1}{4}}x^{i+1-\\frac{1}{4}} \\bigg|^{b - \\gamma_1}_{b - \\gamma_2}$$\n"
   ]
  },
  {
   "cell_type": "code",
   "execution_count": 2,
   "metadata": {},
   "outputs": [],
   "source": [
    "def moment(gamma1, gamma2, k):\n",
    "    \"\"\" Функция вычисления моментов \"\"\"\n",
    "    b = 3.2\n",
    "    coef = k + 1 - 1/4\n",
    "    return 1 / coef * ((b - gamma1) ** coef - (b - gamma2) ** coef)"
   ]
  },
  {
   "cell_type": "code",
   "execution_count": 3,
   "metadata": {},
   "outputs": [],
   "source": [
    "def f(x, a=1.7, b=3.2, alpha=0, beta=0.25):\n",
    "    return 3 * np.cos(2 * x) * np.exp(2 * x / 3) + 5 * np.sin(2.5 * x) * np.exp(-x / 3) + 2 * x"
   ]
  },
  {
   "cell_type": "code",
   "execution_count": 4,
   "metadata": {},
   "outputs": [],
   "source": [
    "def newton_cotes(f, gamma1=1.7, gamma2=3.2, n_points=5,b=3.2, return_info=False):\n",
    "    \"\"\" Построение квадратурной формулы Ньютона-Котеса \"\"\"\n",
    "    # Замена переменной\n",
    "    x = np.linspace(gamma1, gamma2, n_points)\n",
    "    t = b - x\n",
    "    \n",
    "    # Строим матрицу Вандермонда\n",
    "    vander = np.vander(t, n_points, increasing=True).T\n",
    "    \n",
    "    # Находим моменты\n",
    "    mu = np.array([moment(gamma1, gamma2, k) for k in range(len(x))])\n",
    "    \n",
    "    # Находим коэф в квадратурной форме,\n",
    "    A = np.linalg.solve(vander, mu)\n",
    "    \n",
    "    if return_info is True:\n",
    "        return {\"mu\": mu, \"A\": A, \"S\": sum(A * f(x))}\n",
    "    \n",
    "    return sum(A * f(x))"
   ]
  },
  {
   "cell_type": "markdown",
   "metadata": {},
   "source": [
    "# Метод Гаусса\n",
    "\n",
    "Рассмотрим полином $P_{m}$. Представим его в виде $P_{m}(x)=P_{m-n}(x) \\omega(x)+P_{n-1}(x)$. Мы хотим, чтобы методическая погрешность была равна 0 для $m \\le 2n-1$. Распишем методическую погрешность.\n",
    "\n",
    "$$\n",
    "R\\left(P_{m}(x)\\right)=\\int_{a}^{b} p(x) P_{m-n}(x) \\omega(x) d x-\\sum_{i=1}^{n} A_{i} P_{m-n}\\left(x_{i}\\right) \\omega\\left(x_{i}\\right)+R\\left(P_{n-1}(x)\\right)\n",
    "$$\n",
    "\n",
    "Если $w(x)$ выбрать ортогональным ко всем полиномам степени меньше n. Тогда первое слагаемое будет равно 0.\n",
    "Построим $w(x) = x^{n}+a_{n-1} x^{n-1}+a_{n-2} x^{n-2}+\\ldots+a_{0}$ из условия ортогональности \n",
    "\n",
    "$$\n",
    "\\int_{a}^{b} p(x)\\left[x^{n}+a_{n-1} x^{n-1}+a_{n-2} x^{n-2}+\\ldots+a_{0}\\right] x^{s} d x=0, \\quad \n",
    "s=\\overline{0, n-1}\\\n",
    "$$\n",
    "\n",
    "Получаем систему линейных уравнений\n",
    "\n",
    "$$\n",
    "\\sum_{i=0}^{n-1} a_{i} \\mu_{s+i}=-\\mu_{s+n}, \\quad s=\\overline{0, n-1}\\\n",
    "$$\n",
    "где $\\mu_{i}$ $i$ый момент функции $p(x)$.\n",
    "\n",
    "    Есть теорема, которая говорит о том, что корни w(x) при положительной весовой функции будут лежать внутри отрезка а, b. Но это условие может нарушаться из-за вычислительной погрешности. \n",
    "    \n",
    "Поэтому если в качестве узлов мы возьмем корни $w$, то второе слагаемое тоже будет равно 0\n",
    "\n",
    "Теперь у нас осталось третье слагаемое, которое зануляется с помощью условия равенства нулю методической погрешности для полиномов степени n - 1. Которое можно записать в данном виде:\n",
    "\n",
    "$$\n",
    "\\sum_{i=0}^{n-1} A_{i} x_{i}^{s}=\\mu_{s} ; \\quad s=0,1, \\ldots, n-1\n",
    "$$\n",
    "\n",
    "Коэффициенты в квадратурной формуле должны быть положительными, что в связи с вычислительной погрешностью может нарушаться. \n",
    "\n",
    "Окончательно интеграл вычисляется как:\n",
    "\n",
    "$$\n",
    "\\int_{a}^{b} p(x) f(x) d x \\approx \\sum_{i=1}^{n} A_{i} f\\left(x_{i}\\right)\n",
    "$$"
   ]
  },
  {
   "cell_type": "code",
   "execution_count": 5,
   "metadata": {},
   "outputs": [],
   "source": [
    "def gauss(f, gamma1=1.7, gamma2=3.2, b=3.2, n_points=10):\n",
    "    \"\"\" Построение квадратурной формулы с помощью специального выбора узлов.\n",
    "        Алгебраическа степень точности 2*n - 1, где n - число узлов \"\"\"\n",
    "    \n",
    "    # Находим моменты\n",
    "    moments = np.array([moment(gamma1, gamma2, k) for k in range(2*n_points)])\n",
    "    \n",
    "    # Решаем систему, чтобы найти коэф. узлового многочлена\n",
    "    maxtix_of_moments = np.array([moments[s: s + n_points] for s in range(n_points)])\n",
    "    poly_coeffs = np.linalg.solve(maxtix_of_moments, -moments[n_points:])\n",
    "    \n",
    "    # Строим полином w, находим узлы\n",
    "    poly = np.poly1d([1] + list(reversed(poly_coeffs)))\n",
    "    nodes = poly.roots\n",
    "    \n",
    "    # Из-за вычислительной погрешности, корни могут находиться вне интервала а, b \n",
    "    # выведем предупреждение, если это так\n",
    "    if not ((gamma1 - b < - nodes).all() and (-nodes < 0).all()):\n",
    "        print(\"Некоторые узлы выходят за промежуток интегрирования\")\n",
    "        \n",
    "    # Находим коэф в квадратурной форме\n",
    "    vander = np.vander(nodes, n_points, increasing=True).T\n",
    "    quad_coeff = np.linalg.solve(vander, moments[:n_points])\n",
    "    \n",
    "    return sum(f(b - nodes) * quad_coeff)"
   ]
  },
  {
   "cell_type": "code",
   "execution_count": 6,
   "metadata": {},
   "outputs": [],
   "source": [
    "def quad(f, a=1.7, b=3.2, method=\"newton_cotes\", n_split=10, n_points=3):\n",
    "    \"\"\" Составная квадратурная формула \"\"\"\n",
    "    if method == \"newton_cotes\":\n",
    "        method = newton_cotes\n",
    "    if method == \"gauss\":\n",
    "        method = gauss\n",
    "    \n",
    "    # Разбиваем на интервалы\n",
    "    intervals = np.linspace(a, b, n_split)\n",
    "    integral = 0\n",
    "    for i in range(1, len(intervals)):\n",
    "        \n",
    "        # На каждом интервале применяем заданную квадратурную форму \n",
    "        integral += method(f, intervals[i - 1], intervals[i], n_points=n_points)\n",
    "        \n",
    "    return integral"
   ]
  },
  {
   "cell_type": "code",
   "execution_count": 7,
   "metadata": {},
   "outputs": [
    {
     "data": {
      "text/plain": [
       "23.56607328890327"
      ]
     },
     "execution_count": 7,
     "metadata": {},
     "output_type": "execute_result"
    }
   ],
   "source": [
    "quad(f, method=\"gauss\", n_split=2, n_points=3)"
   ]
  },
  {
   "cell_type": "markdown",
   "metadata": {},
   "source": [
    "# Аналитическое обоснование процесса Эйткена   \n",
    "  \n",
    "\n",
    "\n",
    "Создаем 3 сетки с шагом $h$, $\\frac{h}{L}$, $\\frac{h}{L^2}$, то есть $h_1$, $h_2$, $h_3$ соответственно. Предполагаем, что для их методических погрешностях верно аcимптотическое разложение\n",
    "\n",
    "$$\n",
    "R_{h_{i}}=J(f)-S_{h_{i}}=C_{m} h_{i}^{m}+O\\left(h_{i}^{m+1}\\right)\\\n",
    "$$\n",
    "\n",
    "Выражая $J(f)$ и приравнивания, получаем\n",
    "\n",
    "$$\n",
    "S_{h_{2}}-S_{h_{1}}=C_{m} h^{m}\\left(1-\\frac{1}{L^{m}}\\right)+O\\left(h^{m+1}\\right)\\\n",
    "$$\n",
    "\\\n",
    "$$\n",
    "S_{h_{3}}-S_{h_{2}}=C_{m} \\left(\\frac{h}{L}\\right)^{m}\\left(1-\\frac{1}{L^{m}}\\right)+O\\left(h^{m+1}\\right)\\\n",
    "$$\n",
    "Из этого следует\n",
    "\\\n",
    "$$\n",
    "\\frac{S_{h_{3}}-S_{h_{2}}}{S_{h_{2}}-S_{h_{1}}} \\approx \\frac{C_{m}\\left(\\frac{h}{L}\\right)^{m}\\left(1-\\frac{1}{L^{m}}\\right)}{C_{m} h^{m}\\left(1-\\frac{1}{L^{m}}\\right)}=\\frac{1}{L^{m}}\\\n",
    "$$\n",
    "и\n",
    "\\\n",
    "$$\n",
    "m \\approx-\\frac{\\ln \\frac{S_{h_{3}}-S_{h_{2}}}{S_{h_{2}}-S_{h_{1}}}}{\\ln L}\n",
    "$$\n"
   ]
  },
  {
   "cell_type": "code",
   "execution_count": 8,
   "metadata": {},
   "outputs": [],
   "source": [
    "def aitken_process(f, L = 2, h = 0.2, a=1.7, b=3.2, return_sums=False, \n",
    "                   method=\"newton_cotes\", n_points=3):\n",
    "    \n",
    "    assert type(L) == int, \"L should be integer\"\n",
    "    n_split = int((b - a) / h)\n",
    "    \n",
    "    # Вычисляем квадратурную форму на трех сетках\n",
    "    first_sum = quad(f, method=method, n_split=n_split, n_points=n_points)\n",
    "    second_sum = quad(f, method=method, n_split=n_split * L, n_points=n_points)\n",
    "    fird_sum = quad(f, method=method, n_split=n_split * L ** 2, n_points=n_points)\n",
    "    \n",
    "    # Находим приближенное значение m\n",
    "    m = - np.log(abs((fird_sum - second_sum) / (second_sum - first_sum))) / np.log(L)\n",
    "    \n",
    "    if return_sums:\n",
    "        return m, first_sum, second_sum, fird_sum\n",
    "    \n",
    "    return m"
   ]
  },
  {
   "cell_type": "markdown",
   "metadata": {},
   "source": [
    "# Правило Рунге  \n",
    "После получения значения m, мы можем оценить методическую погрешность каждой из сеток.\n",
    "Из \n",
    "\n",
    "$$\n",
    "S_{h_{2}}-S_{h_{1}}=C_{m} h^{m}\\left(1-\\frac{1}{L^{m}}\\right)+O\\left(h^{m+1}\\right)\n",
    "$$\n",
    "\n",
    "следует \n",
    "\n",
    "$$\n",
    "C_{m}=\\frac{S_{h_{2}}-S_{h_{1}}}{h^{m}\\left(1-L^{-m}\\right)}+O\\left(h^{m+1}\\right)\n",
    "$$\n",
    "\n",
    "И подставляя значение $С_m$ в представление асимптотической поргешности для $h_1$, $h_2$ получаем\n",
    "\n",
    "$$\n",
    "R_{h_{1}}=J(f)-S_{h_{1}} \\approx \\frac{S_{h_{2}}-S_{h_{1}}}{1-L^{-m}}\n",
    "$$\n",
    "\n",
    "$$\n",
    "R_{h_{2}}=J(f)-S_{h_{2}} \\approx \\frac{S_{h_{2}}-S_{h_{1}}}{L^{m}-1}\n",
    "$$\n",
    "\n",
    "Причем мы хотим найти такое $h_{opt}$, чтобы методическая погрешность была равна наперед заданному числу $\\varepsilon$\n",
    "\n",
    "$$\n",
    "\\varepsilon=\\left|R_{h_{o p t}}\\right| \\approx\\left|C_{m} h_{o p t}^{m}\\right| \\approx \\frac{\\left|S_{h_{2}}-S_{h_{1}}\\right|}{h^{m}\\left(1-L^{-m}\\right)} h_{o p t}^{m}=R_{h_{1}}\\left(\\frac{h_{o p t}}{h}\\right)^{m}\n",
    "$$\n",
    "\n",
    "Отсюда получаем приблизительный оптимальный шаг разбиения\n",
    "\n",
    "$$\n",
    "h_{o p t}=h\\left(\\frac{\\varepsilon\\left(1-L^{-m}\\right)}{\\left|S_{h_{2}}-S_{h_{1}}\\right|}\\right)^{\\frac{1}{m}}=h_{1} \\sqrt[m]{\\frac{\\varepsilon}{\\left|R_{h_{1}}\\right|}}=h_{2} \\sqrt[m]{\\frac{\\varepsilon}{\\left|R_{h_{2}}\\right|}}\n",
    "$$"
   ]
  },
  {
   "cell_type": "code",
   "execution_count": 9,
   "metadata": {},
   "outputs": [],
   "source": [
    "def aitken_runge_process(f, L=2, h=0.2, a=1.7, b=3.2, epsilon=1e-6, \n",
    "                         method=\"newton_cotes\", n_points=3):\n",
    "    inaccuracy = epsilon + 1\n",
    "    \n",
    "    # Пока методическая погрешность больше эпсилон, находим новые разбиения\n",
    "    while abs(inaccuracy) > epsilon:\n",
    "        # Находим m и все S_h_i\n",
    "        m, first_sum, second_sum, fird_sum = aitken_process(f, L=L, h=h, a=a, b=b, return_sums=True, \n",
    "                                                            method=method, n_points=n_points)\n",
    "        \n",
    "        # Находим приблизительную методическую погрешность\n",
    "        inaccuracy = (second_sum - first_sum) / (L ** m - 1)\n",
    "        \n",
    "        # Находим оптимальное h\n",
    "        h = h / L * (epsilon / abs(inaccuracy)) ** (1 / m)\n",
    "    \n",
    "    return second_sum, inaccuracy"
   ]
  },
  {
   "cell_type": "code",
   "execution_count": 10,
   "metadata": {},
   "outputs": [
    {
     "name": "stdout",
     "output_type": "stream",
     "text": [
      "Составная квадратурная формула на основе трех точечного Ньютона-Котеса\n",
      "Разница между моим значением и эталонным при epsilon = 1 = 0.00010532260910878222\n",
      "Разница между моим значением и эталонным при epsilon = 0.1 = 0.00010532260910878222\n",
      "Разница между моим значением и эталонным при epsilon = 0.001 = 0.00010532260910878222\n",
      "Разница между моим значением и эталонным при epsilon = 1e-05 = 6.594037742502223e-07\n",
      "Разница между моим значением и эталонным при epsilon = 1e-07 = 9.580215731830322e-09\n"
     ]
    }
   ],
   "source": [
    "from scipy.integrate import quad as best_quad\n",
    "\n",
    "def F(x, a=1.7, b=3.2, alpha=0, beta=0.25):\n",
    "    f = 3 * np.cos(2 * x) * np.exp(2 * x / 3) + 5 * np.sin(2.5 * x) * np.exp(-x / 3) + 2 * x\n",
    "    p = (x - a) ** alpha * (b - x) ** beta\n",
    "    return f / p\n",
    "\n",
    "integral = best_quad(F, a=1.7, b=3.2, epsabs=1e-10)[0]\n",
    "\n",
    "print(\"Составная квадратурная формула на основе трех точечного Ньютона-Котеса\")\n",
    "for epsilon in (1, 1e-1, 1e-3, 1e-5, 1e-7):\n",
    "    my_integral = aitken_runge_process(f, epsilon=epsilon, method=\"newton_cotes\")[0]\n",
    "    dif = abs(my_integral - integral)\n",
    "    print(f\"Разница между моим значением и эталонным при {epsilon = } = {dif}\")"
   ]
  },
  {
   "cell_type": "code",
   "execution_count": 11,
   "metadata": {},
   "outputs": [
    {
     "name": "stdout",
     "output_type": "stream",
     "text": [
      "Составная квадратурная формула на основе двух точечного Гаусса\n",
      "Разница между моим значением и эталонным при epsilon = 1 = 7.73853798818891e-06\n",
      "Разница между моим значением и эталонным при epsilon = 0.1 = 7.73853798818891e-06\n",
      "Разница между моим значением и эталонным при epsilon = 0.001 = 7.73853798818891e-06\n",
      "Разница между моим значением и эталонным при epsilon = 1e-05 = 7.73853798818891e-06\n",
      "Разница между моим значением и эталонным при epsilon = 1e-07 = 6.2999880867664615e-09\n"
     ]
    }
   ],
   "source": [
    "print(\"Составная квадратурная формула на основе двух точечного Гаусса\")\n",
    "for epsilon in (1, 1e-1, 1e-3, 1e-5, 1e-7):\n",
    "    my_integral = aitken_runge_process(f, epsilon=epsilon, method=\"gauss\", n_points=2)[0]\n",
    "    dif = abs(my_integral - integral)\n",
    "    print(f\"Разница между моим значением и эталонным при {epsilon = } = {dif}\")"
   ]
  },
  {
   "cell_type": "code",
   "execution_count": null,
   "metadata": {},
   "outputs": [],
   "source": []
  }
 ],
 "metadata": {
  "kernelspec": {
   "display_name": "Python 3",
   "language": "python",
   "name": "python3"
  },
  "language_info": {
   "codemirror_mode": {
    "name": "ipython",
    "version": 3
   },
   "file_extension": ".py",
   "mimetype": "text/x-python",
   "name": "python",
   "nbconvert_exporter": "python",
   "pygments_lexer": "ipython3",
   "version": "3.8.5"
  }
 },
 "nbformat": 4,
 "nbformat_minor": 4
}
